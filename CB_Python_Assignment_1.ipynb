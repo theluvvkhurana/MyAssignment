{
 "cells": [
  {
   "cell_type": "code",
   "execution_count": 1,
   "metadata": {},
   "outputs": [
    {
     "name": "stdout",
     "output_type": "stream",
     "text": [
      "Enter the first number: 3\n",
      "Enter the second number: 5\n",
      "5\n",
      "3\n"
     ]
    }
   ],
   "source": [
    "#Ques.:1\n",
    "\n",
    "a = int(input(\"Enter the first number: \"))\n",
    "b = int(input(\"Enter the second number: \"))\n",
    "a = a+b\n",
    "b = a-b\n",
    "a = a-b\n",
    "print(a)\n",
    "print(b)"
   ]
  },
  {
   "cell_type": "code",
   "execution_count": 3,
   "metadata": {},
   "outputs": [
    {
     "name": "stdout",
     "output_type": "stream",
     "text": [
      "Enter a number to check whether it is even or odd : 56\n",
      "Number is even number\n"
     ]
    }
   ],
   "source": [
    "#Ques.: 2\n",
    "\n",
    "a = int(input(\"Enter a number to check whether it is even or odd : \"))\n",
    "if(a%2==0):\n",
    "    print(\"Number is even number\")\n",
    "else:\n",
    "    print(\"Number is odd number\")"
   ]
  },
  {
   "cell_type": "code",
   "execution_count": 4,
   "metadata": {},
   "outputs": [
    {
     "name": "stdout",
     "output_type": "stream",
     "text": [
      "Enter the number to find the square root: 64\n",
      "8.0\n"
     ]
    }
   ],
   "source": [
    "#Ques.:3\n",
    "\n",
    "\n",
    "n= int(input(\"Enter the number to find the square root: \"))\n",
    "sqr_rt= (n**0.5)\n",
    "print(sqr_rt)"
   ]
  },
  {
   "cell_type": "code",
   "execution_count": 5,
   "metadata": {},
   "outputs": [
    {
     "name": "stdout",
     "output_type": "stream",
     "text": [
      "Enter the number you want to print: 7\n",
      "Numbers in actual order: \n",
      "1\n",
      "2\n",
      "3\n",
      "4\n",
      "5\n",
      "6\n",
      "7\n",
      "Numbers in reverse order: \n",
      "7\n",
      "6\n",
      "5\n",
      "4\n",
      "3\n",
      "2\n",
      "1\n"
     ]
    }
   ],
   "source": [
    "#Ques.:4\n",
    "\n",
    "n = int(input(\"Enter the number you want to print: \"))\n",
    "print(\"Numbers in actual order: \")\n",
    "for i in range(1,n+1):\n",
    "        print (i)\n",
    "print(\"Numbers in reverse order: \")        \n",
    "while(n>=1):\n",
    "    print(n)\n",
    "    n = n-1\n",
    "    "
   ]
  },
  {
   "cell_type": "code",
   "execution_count": 7,
   "metadata": {},
   "outputs": [
    {
     "name": "stdout",
     "output_type": "stream",
     "text": [
      "Enter the radius of the sphere: 6.7\n",
      "1259.1944266666667\n"
     ]
    }
   ],
   "source": [
    "#Ques.:5\n",
    "\n",
    "rad = float(input(\"Enter the radius of the sphere: \"))\n",
    "vol = (4/3)*3.14*(rad**3)\n",
    "print(vol)\n"
   ]
  },
  {
   "cell_type": "code",
   "execution_count": 8,
   "metadata": {},
   "outputs": [
    {
     "name": "stdout",
     "output_type": "stream",
     "text": [
      "Enter the value of a: 4\n",
      "Enter the value of b: 5\n",
      "Enter the value of c: 6\n",
      "Complex roots\n"
     ]
    }
   ],
   "source": [
    "#Ques.:6\n",
    "\n",
    "a=int(input(\"Enter the value of a: \"))\n",
    "b=int(input(\"Enter the value of b: \"))\n",
    "c=int(input(\"Enter the value of c: \"))\n",
    "d = (b**2-(4*a*c))\n",
    "x1 = ((-b+((d)**0.5))/(2*a))\n",
    "x2 = ((-b-((d)**0.5))/(2*a))\n",
    "if(d<0):\n",
    "    print(\"Complex roots\")\n",
    "elif(d==0):\n",
    "    print(\"Same Real Roots\")\n",
    "    print(x1)\n",
    "    print(x2)\n",
    "else:\n",
    "    print(\"Distinct Real roots\")\n",
    "    print(x1)\n",
    "    print(x2)"
   ]
  },
  {
   "cell_type": "code",
   "execution_count": 9,
   "metadata": {},
   "outputs": [
    {
     "name": "stdout",
     "output_type": "stream",
     "text": [
      "Even numbers:  [2, 4, 6, 8, 10, 12, 14, 16, 18, 20, 22, 24, 26, 28, 30, 32, 34, 36, 38, 40, 42, 44, 46, 48, 50, 52, 54, 56, 58, 60, 62, 64, 66, 68, 70, 72, 74, 76, 78, 80, 82, 84, 86, 88, 90, 92, 94, 96, 98, 100]\n",
      "Odd numbers:  [1, 3, 5, 7, 9, 11, 13, 15, 17, 19, 21, 23, 25, 27, 29, 31, 33, 35, 37, 39, 41, 43, 45, 47, 49, 51, 53, 55, 57, 59, 61, 63, 65, 67, 69, 71, 73, 75, 77, 79, 81, 83, 85, 87, 89, 91, 93, 95, 97, 99]\n"
     ]
    }
   ],
   "source": [
    "#Ques.:7\n",
    "\n",
    "Even_num = []\n",
    "Odd_num = []\n",
    "for i in range(1,101,1):\n",
    "    if(i%2==0):\n",
    "        Even_num.append(i)\n",
    "    else:\n",
    "        Odd_num.append(i)\n",
    "\n",
    "print(\"Even numbers: \", Even_num)\n",
    "print(\"Odd numbers: \",Odd_num)"
   ]
  },
  {
   "cell_type": "code",
   "execution_count": 12,
   "metadata": {},
   "outputs": [
    {
     "name": "stdout",
     "output_type": "stream",
     "text": [
      "Enter an integer: 879\n",
      "3\n"
     ]
    }
   ],
   "source": [
    "#Ques.:8\n",
    "\n",
    "num = int(input('Enter an integer: '))\n",
    "count = 0\n",
    "while num > 0:\n",
    "    num = num//10\n",
    "    count = count+1\n",
    "print(count)"
   ]
  },
  {
   "cell_type": "code",
   "execution_count": 13,
   "metadata": {},
   "outputs": [
    {
     "name": "stdout",
     "output_type": "stream",
     "text": [
      "Enter a number: 76\n",
      "False\n"
     ]
    }
   ],
   "source": [
    "# Ques.:9\n",
    "\n",
    "num = int(input(\"Enter a number: \"))  \n",
    "  \n",
    "if num > 1:\n",
    "    for i in range(2,num):  \n",
    "        if (num % i) == 0:  \n",
    "            print(\"False\")  \n",
    "            break  \n",
    "    else:  \n",
    "        print(\"True\")  \n",
    "         \n",
    "else:  \n",
    "    print(\"False\")"
   ]
  },
  {
   "cell_type": "code",
   "execution_count": null,
   "metadata": {},
   "outputs": [],
   "source": [
    "#Ques.:10\n",
    "\n",
    "n = int(input(\"Enter the number: \"))\n",
    "sum = 0\n",
    "for i in range(1,n+1):\n",
    "    if i % 3 == 0 or i % 5 == 0:\n",
    "        sum += i\n",
    "        \n",
    "print(sum)"
   ]
  },
  {
   "cell_type": "code",
   "execution_count": null,
   "metadata": {},
   "outputs": [],
   "source": [
    "#Ques.:11\n",
    "\n",
    "n = int(input(\"Enter the number you want to get result for: \"))\n",
    "ch = input(\"Enter 1 to compute the sum and 2 to compute the product of numbers from 1 to n: \")\n",
    "sum = 0\n",
    "product = 1\n",
    "if ch == '1':\n",
    "    for i in range(n+1):\n",
    "        sum += i\n",
    "    print(sum)\n",
    "elif ch == '2':\n",
    "    for i in range(1, n+1):\n",
    "        product *= i\n",
    "    print(product)\n",
    "else:\n",
    "    print(\"Your input is invalid.\")"
   ]
  },
  {
   "cell_type": "code",
   "execution_count": null,
   "metadata": {},
   "outputs": [],
   "source": [
    "# Ques.: 12\n",
    "\n",
    "sum = 0\n",
    "for i in range(1001):\n",
    "    if i % 3 == 0 or i % 5 == 0:\n",
    "        sum += i\n",
    "        \n",
    "print(sum)"
   ]
  },
  {
   "cell_type": "code",
   "execution_count": null,
   "metadata": {},
   "outputs": [],
   "source": [
    "#Ques.: 13\n",
    "\n",
    "arr = []\n",
    "for i in range(2000,3201,1):\n",
    "    if (i%7==0 and i%5!=0):\n",
    "            arr.append(i)\n",
    "print(arr,end = \" \")"
   ]
  },
  {
   "cell_type": "code",
   "execution_count": null,
   "metadata": {},
   "outputs": [],
   "source": [
    "#Ques.:14\n",
    "\n",
    "\n",
    "sqr_of_sum=0\n",
    "sum_of_sqr=0\n",
    "for i in range(1, 101):\n",
    "    x = i**2\n",
    "    sum_of_sqr += x\n",
    "    sqr_of_sum += i\n",
    "    \n",
    "diff = (sqr_of_sum**2) - sum_of_sqr\n",
    "print(diff)"
   ]
  },
  {
   "cell_type": "code",
   "execution_count": null,
   "metadata": {},
   "outputs": [],
   "source": [
    "#Ques.:15\n",
    "\n",
    "sum_total = 0\n",
    "counter = 0\n",
    "number = 0\n",
    "while (number!=\"stop\"):\n",
    "        try: \n",
    "    \n",
    "            number = input(\"Enter a number: \")\n",
    "            counter  +=1\n",
    "            sum_total += int(number)\n",
    "           \n",
    "        except:\n",
    "                print(\"Total: \",sum_total)\n",
    "                print(\"Counter: \",counter)\n",
    "                print(\"Average: \",(sum_total/counter))\n",
    "                break"
   ]
  },
  {
   "cell_type": "code",
   "execution_count": null,
   "metadata": {},
   "outputs": [],
   "source": [
    "#Ques.: 16\n",
    "\n",
    "num = int(input(\"Enter the number: \"))\n",
    "for num in range(1,num + 1):\n",
    "   if num > 1:\n",
    "        for i in range(2,num):\n",
    "            if (num % i) == 0:\n",
    "                break\n",
    "        else:\n",
    "            print(num)"
   ]
  },
  {
   "cell_type": "code",
   "execution_count": null,
   "metadata": {},
   "outputs": [],
   "source": [
    "#Ques.:17\n",
    "\n",
    "\n",
    "n = int(input(\"Enter the number: \"))\n",
    "fact = 1\n",
    "for i in range(1,n+1):\n",
    "    fact*=i\n",
    "print(fact)"
   ]
  },
  {
   "cell_type": "code",
   "execution_count": null,
   "metadata": {},
   "outputs": [],
   "source": [
    "#Ques.:18\n",
    "\n",
    "n = int(input(\"Enter a number: \"))\n",
    "def fibonacci(n):\n",
    "    if n==0:\n",
    "        return 0\n",
    "    elif n==1:\n",
    "        return n \n",
    "    else :\n",
    "        return fibonacci(n-1)+fibonacci(n-2)\n",
    "    \n",
    "for i in range(n):\n",
    "    print(fibonacci(i))"
   ]
  },
  {
   "cell_type": "code",
   "execution_count": null,
   "metadata": {},
   "outputs": [],
   "source": [
    "#Ques.:19\n",
    "\n",
    "a = int(input(\"Enter the first number: \"))\n",
    "b = int(input(\"Enter the second number: \"))\n",
    "if(a>b):\n",
    "    min1=a\n",
    "else:\n",
    "    min1=b\n",
    "while(1):\n",
    "    if(min1%a==0 and min1%b==0):\n",
    "        print(min1)\n",
    "        break\n",
    "    min1= min1+1"
   ]
  },
  {
   "cell_type": "code",
   "execution_count": null,
   "metadata": {},
   "outputs": [],
   "source": [
    "# Ques.:20\n",
    "\n",
    "num = int(input(\"Enter the number: \"))\n",
    "for i in range(1, num+1):\n",
    "    if num % i == 0:\n",
    "        print(i)"
   ]
  },
  {
   "cell_type": "markdown",
   "metadata": {},
   "source": [
    "#### QUES.: 21 PATTERN QUESTIONS\n"
   ]
  },
  {
   "cell_type": "code",
   "execution_count": null,
   "metadata": {},
   "outputs": [],
   "source": [
    "#1.\n",
    "\n",
    "for i in range(1, 7):\n",
    "    print(\"* \"*i)"
   ]
  },
  {
   "cell_type": "code",
   "execution_count": null,
   "metadata": {},
   "outputs": [],
   "source": [
    "#2.\n",
    "\n",
    "for i in range(7, 0, -1):\n",
    "    print(\"* \"*i)"
   ]
  },
  {
   "cell_type": "code",
   "execution_count": null,
   "metadata": {},
   "outputs": [],
   "source": [
    "#3.\n",
    "\n",
    "for i in range(1, 7):\n",
    "    for j in range(i):\n",
    "        print(i, end = \" \")\n",
    "    print()"
   ]
  },
  {
   "cell_type": "code",
   "execution_count": null,
   "metadata": {},
   "outputs": [],
   "source": [
    "#4.\n",
    "\n",
    "n=4\n",
    "for i in range(n):\n",
    "    print(\" \" * (n-i-1) + \"* \"*(i+1) )"
   ]
  },
  {
   "cell_type": "code",
   "execution_count": null,
   "metadata": {},
   "outputs": [],
   "source": [
    "#5.\n",
    "\n",
    "X = 1\n",
    "for i in range(1, 5):\n",
    "    for j in range(i):\n",
    "        print(X, end = \" \")\n",
    "        X += 1\n",
    "    print()"
   ]
  },
  {
   "cell_type": "code",
   "execution_count": null,
   "metadata": {},
   "outputs": [],
   "source": [
    "#6.\n",
    "\n",
    "\n",
    "X = 65\n",
    "for i in range(1, 7):\n",
    "    for j in range(i):\n",
    "        print(chr(X), end = \" \")\n",
    "        X += 1\n",
    "    print()"
   ]
  },
  {
   "cell_type": "code",
   "execution_count": null,
   "metadata": {},
   "outputs": [],
   "source": [
    "#7.\n",
    "\n",
    "a = int(input(\"Enter the number:\"))\n",
    "x = 0\n",
    "sum = 0\n",
    "for i in range(4):\n",
    "    x = x + ((10 ** i) * a)\n",
    "    print(x)\n",
    "    sum += x\n",
    "print(\"Sum is:\",sum)"
   ]
  },
  {
   "cell_type": "code",
   "execution_count": null,
   "metadata": {},
   "outputs": [],
   "source": []
  }
 ],
 "metadata": {
  "kernelspec": {
   "display_name": "Python 3",
   "language": "python",
   "name": "python3"
  },
  "language_info": {
   "codemirror_mode": {
    "name": "ipython",
    "version": 3
   },
   "file_extension": ".py",
   "mimetype": "text/x-python",
   "name": "python",
   "nbconvert_exporter": "python",
   "pygments_lexer": "ipython3",
   "version": "3.7.3"
  }
 },
 "nbformat": 4,
 "nbformat_minor": 2
}
